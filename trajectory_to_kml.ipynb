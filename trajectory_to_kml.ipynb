{
 "cells": [
  {
   "cell_type": "code",
   "execution_count": 1,
   "metadata": {
    "collapsed": true,
    "ExecuteTime": {
     "start_time": "2023-05-22T19:49:28.415182Z",
     "end_time": "2023-05-22T19:49:28.514254Z"
    }
   },
   "outputs": [],
   "source": [
    "import os.path\n",
    "from datetime import datetime, time\n",
    "\n",
    "import pandas as pd\n",
    "from lxml import etree"
   ]
  },
  {
   "cell_type": "code",
   "execution_count": 2,
   "outputs": [
    {
     "name": "stdout",
     "output_type": "stream",
     "text": [
      "<class 'pandas.core.frame.DataFrame'>\n",
      "RangeIndex: 627 entries, 0 to 626\n",
      "Data columns (total 18 columns):\n",
      " #   Column                          Non-Null Count  Dtype  \n",
      "---  ------                          --------------  -----  \n",
      " 0   Timestamp                       627 non-null    float64\n",
      " 1   A/C LATITUDE                    627 non-null    float64\n",
      " 2   A/C LONGITUDE                   627 non-null    float64\n",
      " 3   ABSOLUTE HEIGHT ABOVE SEALEVEL  627 non-null    float64\n",
      " 4   CALIBRATED AIRSPEED             627 non-null    float64\n",
      " 5   GROUND SPEED                    627 non-null    float64\n",
      " 6   TOTAL A/C VERTICAL SPEED        627 non-null    float64\n",
      " 7   A/C ROLL ANGLE                  627 non-null    float64\n",
      " 8   CORRECTED A/C HEADING           627 non-null    float64\n",
      " 9   GROSS WEIGHT                    627 non-null    float64\n",
      " 10  NET THRUST ENGINE 1             627 non-null    float64\n",
      " 11  NET THRUST ENGINE 2             627 non-null    float64\n",
      " 12  MACHNUMBER                      627 non-null    float64\n",
      " 13  PRESSURE ALTITUDE               627 non-null    float64\n",
      " 14  ADC TRUE AIRSPEED               627 non-null    float64\n",
      " 15  TRUE TRACK ANGLE                627 non-null    float64\n",
      " 16  WINDSPEED                       627 non-null    float64\n",
      " 17  WINDDIR                         627 non-null    float64\n",
      "dtypes: float64(18)\n",
      "memory usage: 88.3 KB\n"
     ]
    }
   ],
   "source": [
    "# First open up a file\n",
    "input_filename = \"./data/A321/Run01_A321_230426.xlsx\"\n",
    "trajectory_name = os.path.splitext(os.path.basename(input_filename))[0]\n",
    "trajectory_original = pd.read_excel(input_filename, skiprows=[1])\n",
    "\n",
    "# Show structure of data\n",
    "trajectory_original.info()"
   ],
   "metadata": {
    "collapsed": false,
    "ExecuteTime": {
     "start_time": "2023-05-22T19:49:28.514048Z",
     "end_time": "2023-05-22T19:49:28.622068Z"
    }
   }
  },
  {
   "cell_type": "code",
   "execution_count": 3,
   "outputs": [],
   "source": [
    "# Rename columns\n",
    "names = {\n",
    "    \"Timestamp\": \"timestamp\",\n",
    "    \"A/C LATITUDE\": \"latitude\",\n",
    "    \"A/C LONGITUDE\": \"longitude\",\n",
    "    \"ABSOLUTE HEIGHT ABOVE SEALEVEL\": \"altitude\",\n",
    "    \"CALIBRATED AIRSPEED\": \"calibrated_airspeed\",\n",
    "    \"GROUND SPEED\": \"ground_speed\",\n",
    "    \"TOTAL A/C VERTICAL SPEED\": \"vertical_speed\",\n",
    "    \"TRUE TRACK ANGLE\": \"track\"\n",
    "}"
   ],
   "metadata": {
    "collapsed": false,
    "ExecuteTime": {
     "start_time": "2023-05-22T19:49:28.622650Z",
     "end_time": "2023-05-22T19:49:28.623982Z"
    }
   }
  },
  {
   "cell_type": "code",
   "execution_count": 4,
   "outputs": [
    {
     "name": "stdout",
     "output_type": "stream",
     "text": [
      "<class 'pandas.core.frame.DataFrame'>\n",
      "RangeIndex: 627 entries, 0 to 626\n",
      "Data columns (total 8 columns):\n",
      " #   Column               Non-Null Count  Dtype  \n",
      "---  ------               --------------  -----  \n",
      " 0   timestamp            627 non-null    float64\n",
      " 1   latitude             627 non-null    float64\n",
      " 2   longitude            627 non-null    float64\n",
      " 3   altitude             627 non-null    float64\n",
      " 4   calibrated_airspeed  627 non-null    float64\n",
      " 5   ground_speed         627 non-null    float64\n",
      " 6   vertical_speed       627 non-null    float64\n",
      " 7   track                627 non-null    float64\n",
      "dtypes: float64(8)\n",
      "memory usage: 39.3 KB\n"
     ]
    }
   ],
   "source": [
    "trajectory = trajectory_original[names.keys()].rename(columns=names)\n",
    "trajectory.info()"
   ],
   "metadata": {
    "collapsed": false,
    "ExecuteTime": {
     "start_time": "2023-05-22T19:49:28.624351Z",
     "end_time": "2023-05-22T19:49:28.680437Z"
    }
   }
  },
  {
   "cell_type": "code",
   "execution_count": 5,
   "outputs": [
    {
     "data": {
      "text/plain": "           timestamp    latitude   longitude     altitude   \ncount     627.000000  627.000000  627.000000   627.000000  \\\nmean   260385.800000   49.970811    8.593685  3012.197267   \nstd        90.571795    0.049301    0.084071  2737.912307   \nmin    260229.300000   49.875470    8.525929   336.781100   \n25%    260307.550000   49.936980    8.526021   337.436200   \n50%    260385.800000   49.962790    8.538898  2109.707000   \n75%    260464.050000   50.025620    8.664182  5141.001500   \nmax    260542.300000   50.034170    8.779834  8971.250000   \n\n       calibrated_airspeed  ground_speed  vertical_speed       track  \ncount           627.000000    627.000000      627.000000  627.000000  \nmean            169.687003    179.973099      -27.582260  132.048039  \nstd              91.768272     99.583253       20.550927   72.396766  \nmin               0.008965      0.000000      -54.339850 -179.999800  \n25%             122.138000    122.914250      -48.047505  118.076700  \n50%             204.518100    213.956000      -32.867810  144.432600  \n75%             248.976450    260.425900       -0.011413  179.316900  \nmax             251.084300    283.530400        0.031867  179.970400  ",
      "text/html": "<div>\n<style scoped>\n    .dataframe tbody tr th:only-of-type {\n        vertical-align: middle;\n    }\n\n    .dataframe tbody tr th {\n        vertical-align: top;\n    }\n\n    .dataframe thead th {\n        text-align: right;\n    }\n</style>\n<table border=\"1\" class=\"dataframe\">\n  <thead>\n    <tr style=\"text-align: right;\">\n      <th></th>\n      <th>timestamp</th>\n      <th>latitude</th>\n      <th>longitude</th>\n      <th>altitude</th>\n      <th>calibrated_airspeed</th>\n      <th>ground_speed</th>\n      <th>vertical_speed</th>\n      <th>track</th>\n    </tr>\n  </thead>\n  <tbody>\n    <tr>\n      <th>count</th>\n      <td>627.000000</td>\n      <td>627.000000</td>\n      <td>627.000000</td>\n      <td>627.000000</td>\n      <td>627.000000</td>\n      <td>627.000000</td>\n      <td>627.000000</td>\n      <td>627.000000</td>\n    </tr>\n    <tr>\n      <th>mean</th>\n      <td>260385.800000</td>\n      <td>49.970811</td>\n      <td>8.593685</td>\n      <td>3012.197267</td>\n      <td>169.687003</td>\n      <td>179.973099</td>\n      <td>-27.582260</td>\n      <td>132.048039</td>\n    </tr>\n    <tr>\n      <th>std</th>\n      <td>90.571795</td>\n      <td>0.049301</td>\n      <td>0.084071</td>\n      <td>2737.912307</td>\n      <td>91.768272</td>\n      <td>99.583253</td>\n      <td>20.550927</td>\n      <td>72.396766</td>\n    </tr>\n    <tr>\n      <th>min</th>\n      <td>260229.300000</td>\n      <td>49.875470</td>\n      <td>8.525929</td>\n      <td>336.781100</td>\n      <td>0.008965</td>\n      <td>0.000000</td>\n      <td>-54.339850</td>\n      <td>-179.999800</td>\n    </tr>\n    <tr>\n      <th>25%</th>\n      <td>260307.550000</td>\n      <td>49.936980</td>\n      <td>8.526021</td>\n      <td>337.436200</td>\n      <td>122.138000</td>\n      <td>122.914250</td>\n      <td>-48.047505</td>\n      <td>118.076700</td>\n    </tr>\n    <tr>\n      <th>50%</th>\n      <td>260385.800000</td>\n      <td>49.962790</td>\n      <td>8.538898</td>\n      <td>2109.707000</td>\n      <td>204.518100</td>\n      <td>213.956000</td>\n      <td>-32.867810</td>\n      <td>144.432600</td>\n    </tr>\n    <tr>\n      <th>75%</th>\n      <td>260464.050000</td>\n      <td>50.025620</td>\n      <td>8.664182</td>\n      <td>5141.001500</td>\n      <td>248.976450</td>\n      <td>260.425900</td>\n      <td>-0.011413</td>\n      <td>179.316900</td>\n    </tr>\n    <tr>\n      <th>max</th>\n      <td>260542.300000</td>\n      <td>50.034170</td>\n      <td>8.779834</td>\n      <td>8971.250000</td>\n      <td>251.084300</td>\n      <td>283.530400</td>\n      <td>0.031867</td>\n      <td>179.970400</td>\n    </tr>\n  </tbody>\n</table>\n</div>"
     },
     "execution_count": 5,
     "metadata": {},
     "output_type": "execute_result"
    }
   ],
   "source": [
    "trajectory.describe()"
   ],
   "metadata": {
    "collapsed": false,
    "ExecuteTime": {
     "start_time": "2023-05-22T19:49:28.675620Z",
     "end_time": "2023-05-22T19:49:28.766789Z"
    }
   }
  },
  {
   "cell_type": "code",
   "execution_count": 6,
   "outputs": [
    {
     "data": {
      "text/plain": "   timestamp  latitude  longitude  altitude  calibrated_airspeed   \n0   260229.3  50.03417   8.525929  336.7844             0.103095  \\\n1   260229.8  50.03417   8.525929  336.7844             0.103095   \n2   260230.3  50.03417   8.525929  336.7844             0.103095   \n3   260230.8  50.03417   8.525929  336.7844             0.103095   \n4   260231.3  50.03417   8.525929  336.7844             0.103095   \n\n   ground_speed  vertical_speed     track  \n0           0.0       -0.000002  179.6355  \n1           0.0       -0.000002  179.6355  \n2           0.0       -0.000002  179.6355  \n3           0.0       -0.000002  179.6355  \n4           0.0       -0.000001  179.6355  ",
      "text/html": "<div>\n<style scoped>\n    .dataframe tbody tr th:only-of-type {\n        vertical-align: middle;\n    }\n\n    .dataframe tbody tr th {\n        vertical-align: top;\n    }\n\n    .dataframe thead th {\n        text-align: right;\n    }\n</style>\n<table border=\"1\" class=\"dataframe\">\n  <thead>\n    <tr style=\"text-align: right;\">\n      <th></th>\n      <th>timestamp</th>\n      <th>latitude</th>\n      <th>longitude</th>\n      <th>altitude</th>\n      <th>calibrated_airspeed</th>\n      <th>ground_speed</th>\n      <th>vertical_speed</th>\n      <th>track</th>\n    </tr>\n  </thead>\n  <tbody>\n    <tr>\n      <th>0</th>\n      <td>260229.3</td>\n      <td>50.03417</td>\n      <td>8.525929</td>\n      <td>336.7844</td>\n      <td>0.103095</td>\n      <td>0.0</td>\n      <td>-0.000002</td>\n      <td>179.6355</td>\n    </tr>\n    <tr>\n      <th>1</th>\n      <td>260229.8</td>\n      <td>50.03417</td>\n      <td>8.525929</td>\n      <td>336.7844</td>\n      <td>0.103095</td>\n      <td>0.0</td>\n      <td>-0.000002</td>\n      <td>179.6355</td>\n    </tr>\n    <tr>\n      <th>2</th>\n      <td>260230.3</td>\n      <td>50.03417</td>\n      <td>8.525929</td>\n      <td>336.7844</td>\n      <td>0.103095</td>\n      <td>0.0</td>\n      <td>-0.000002</td>\n      <td>179.6355</td>\n    </tr>\n    <tr>\n      <th>3</th>\n      <td>260230.8</td>\n      <td>50.03417</td>\n      <td>8.525929</td>\n      <td>336.7844</td>\n      <td>0.103095</td>\n      <td>0.0</td>\n      <td>-0.000002</td>\n      <td>179.6355</td>\n    </tr>\n    <tr>\n      <th>4</th>\n      <td>260231.3</td>\n      <td>50.03417</td>\n      <td>8.525929</td>\n      <td>336.7844</td>\n      <td>0.103095</td>\n      <td>0.0</td>\n      <td>-0.000001</td>\n      <td>179.6355</td>\n    </tr>\n  </tbody>\n</table>\n</div>"
     },
     "execution_count": 6,
     "metadata": {},
     "output_type": "execute_result"
    }
   ],
   "source": [
    "trajectory.head()"
   ],
   "metadata": {
    "collapsed": false,
    "ExecuteTime": {
     "start_time": "2023-05-22T19:49:28.763186Z",
     "end_time": "2023-05-22T19:49:28.897266Z"
    }
   }
  },
  {
   "cell_type": "code",
   "execution_count": 7,
   "outputs": [
    {
     "data": {
      "text/plain": "0    0.0\n1    0.5\n2    1.0\n3    1.5\n4    2.0\nName: elapsed_seconds, dtype: float64"
     },
     "execution_count": 7,
     "metadata": {},
     "output_type": "execute_result"
    }
   ],
   "source": [
    "# Calculate the elapsed time from the timestamps\n",
    "trajectory[\"elapsed_seconds\"] = trajectory[\"timestamp\"] - trajectory[\"timestamp\"].iloc[0]\n",
    "trajectory[\"elapsed_seconds\"].head()"
   ],
   "metadata": {
    "collapsed": false,
    "ExecuteTime": {
     "start_time": "2023-05-22T19:49:28.810949Z",
     "end_time": "2023-05-22T19:49:28.897592Z"
    }
   }
  },
  {
   "cell_type": "code",
   "execution_count": 8,
   "outputs": [
    {
     "data": {
      "text/plain": "0          0 days 00:00:00\n1   0 days 00:00:00.500000\n2          0 days 00:00:01\n3   0 days 00:00:01.500000\n4          0 days 00:00:02\nName: elapsed_seconds, dtype: timedelta64[ns]"
     },
     "execution_count": 8,
     "metadata": {},
     "output_type": "execute_result"
    }
   ],
   "source": [
    "# Convert elapsed seconds to timedelta\n",
    "trajectory[\"elapsed_seconds\"] = pd.to_timedelta(trajectory[\"elapsed_seconds\"], unit=\"seconds\")\n",
    "trajectory[\"elapsed_seconds\"].head()"
   ],
   "metadata": {
    "collapsed": false,
    "ExecuteTime": {
     "start_time": "2023-05-22T19:49:28.815847Z",
     "end_time": "2023-05-22T19:49:28.898608Z"
    }
   }
  },
  {
   "cell_type": "code",
   "execution_count": 9,
   "outputs": [
    {
     "data": {
      "text/plain": "0   2023-05-22 00:00:00.000\n1   2023-05-22 00:00:00.500\n2   2023-05-22 00:00:01.000\n3   2023-05-22 00:00:01.500\n4   2023-05-22 00:00:02.000\nName: datetime, dtype: datetime64[ns]"
     },
     "execution_count": 9,
     "metadata": {},
     "output_type": "execute_result"
    }
   ],
   "source": [
    "# Calculate an absolute time based on the start of today.\n",
    "reference_datetime = datetime.combine(datetime.now().date(), time.min)\n",
    "# Add the elapsed seconds to the reference date to obtain an absolute date for each datum\n",
    "trajectory[\"datetime\"] = reference_datetime + trajectory[\"elapsed_seconds\"]\n",
    "trajectory[\"datetime\"].head()"
   ],
   "metadata": {
    "collapsed": false,
    "ExecuteTime": {
     "start_time": "2023-05-22T19:49:28.898601Z",
     "end_time": "2023-05-22T19:49:29.029669Z"
    }
   }
  },
  {
   "cell_type": "code",
   "execution_count": 10,
   "outputs": [
    {
     "data": {
      "text/plain": "0    2023-05-22T00:00:00+00:00\n1    2023-05-22T00:00:00+00:00\n2    2023-05-22T00:00:01+00:00\n3    2023-05-22T00:00:01+00:00\n4    2023-05-22T00:00:02+00:00\nName: datetime_str, dtype: object"
     },
     "execution_count": 10,
     "metadata": {},
     "output_type": "execute_result"
    }
   ],
   "source": [
    "# Create a column with the formatted date as string\n",
    "# Reference format 2022-02-28T01:00:37.950000+01:00\n",
    "trajectory[\"datetime_str\"] = trajectory[\"datetime\"].dt.strftime(\"%Y-%m-%dT%H:%M:%S+00:00\")\n",
    "trajectory[\"datetime_str\"].head()"
   ],
   "metadata": {
    "collapsed": false,
    "ExecuteTime": {
     "start_time": "2023-05-22T19:49:28.986761Z",
     "end_time": "2023-05-22T19:49:29.031495Z"
    }
   }
  },
  {
   "cell_type": "code",
   "execution_count": 43,
   "outputs": [
    {
     "data": {
      "text/plain": "b'<?xml version=\\'1.0\\' encoding=\\'utf-8\\'?>\\n<kml xmlns:gx=\"http://www.google.com/kml/ext/2.2\" xmlns=\"http://www.opengis.net/kml/2.2\"><Document><name>Run01_A321_230426</name></Document></kml>'"
     },
     "execution_count": 43,
     "metadata": {},
     "output_type": "execute_result"
    }
   ],
   "source": [
    "# Start structuring the document\n",
    "kml_namespace = \"http://www.opengis.net/kml/2.2\"\n",
    "kml_ext_namespace = \"http://www.google.com/kml/ext/2.2\"\n",
    "\n",
    "namespace_map = {\n",
    "    \"gx\": \"http://www.google.com/kml/ext/2.2\",\n",
    "    None: \"http://www.opengis.net/kml/2.2\"\n",
    "}\n",
    "\n",
    "# Create a new xml document\n",
    "root = etree.Element(\"kml\", nsmap=namespace_map)\n",
    "\n",
    "# Add a root document\n",
    "root_document = etree.SubElement(root, \"Document\")\n",
    "root_document_name = etree.SubElement(root_document, \"name\")\n",
    "\n",
    "root_document_name.text = trajectory_name\n",
    "\n",
    "etree.tostring(root, xml_declaration=True, encoding=\"utf-8\")"
   ],
   "metadata": {
    "collapsed": false,
    "ExecuteTime": {
     "start_time": "2023-05-22T19:56:43.209615Z",
     "end_time": "2023-05-22T19:56:43.212685Z"
    }
   }
  },
  {
   "cell_type": "code",
   "execution_count": 44,
   "outputs": [],
   "source": [
    "# Get the start and end point\n",
    "start_point_coordinates = trajectory[[\"longitude\", \"latitude\", \"altitude\"]].iloc[0].tolist()\n",
    "end_point_coordinates = trajectory[[\"longitude\", \"latitude\", \"altitude\"]].iloc[-1].tolist()"
   ],
   "metadata": {
    "collapsed": false,
    "ExecuteTime": {
     "start_time": "2023-05-22T19:56:43.344026Z",
     "end_time": "2023-05-22T19:56:43.386742Z"
    }
   }
  },
  {
   "cell_type": "code",
   "execution_count": 45,
   "outputs": [],
   "source": [
    "# add a LookAt element\n",
    "look_at = etree.SubElement(root_document, \"LookAt\")\n",
    "timespan_elem = etree.SubElement(look_at, f\"{{{kml_ext_namespace}}}TimeSpan\")\n",
    "timespan_begin = etree.SubElement(timespan_elem, \"begin\")\n",
    "timespan_begin.text = trajectory[\"datetime_str\"].iloc[0]\n",
    "timespan_end = etree.SubElement(timespan_elem, \"end\")\n",
    "timespan_end.text = trajectory[\"datetime_str\"].iloc[-1]\n",
    "\n",
    "look_at_longitude = etree.SubElement(look_at, \"longitude\")\n",
    "look_at_longitude.text = str(start_point_coordinates[0])\n",
    "look_at_latitude = etree.SubElement(look_at, \"latitude\")\n",
    "look_at_latitude.text = str(start_point_coordinates[1])\n",
    "look_at_altitude = etree.SubElement(look_at, \"altitude\")\n",
    "look_at_altitude.text = str(5000)\n",
    "look_at_tilt = etree.SubElement(look_at, \"tilt\")\n",
    "look_at_tilt.text = str(70)\n",
    "look_at_altitude_mode = etree.SubElement(look_at, \"altitudeMode\")\n",
    "look_at_altitude_mode.text = \"absolute\""
   ],
   "metadata": {
    "collapsed": false,
    "ExecuteTime": {
     "start_time": "2023-05-22T19:56:43.526537Z",
     "end_time": "2023-05-22T19:56:43.526817Z"
    }
   }
  },
  {
   "cell_type": "code",
   "execution_count": 46,
   "outputs": [],
   "source": [
    "# Add a folder for the track animation\n",
    "trajectory_4d_folder = etree.SubElement(root_document, \"Folder\")\n",
    "trajectory_4d_folder_name = etree.SubElement(trajectory_4d_folder, \"name\")\n",
    "trajectory_4d_folder_name.text = \"4D Trajectory\"\n",
    "\n",
    "trajectory_4d_placemark = etree.SubElement(trajectory_4d_folder, \"Placemark\")\n",
    "name_tag = etree.SubElement(trajectory_4d_placemark, \"name\")\n",
    "name_tag.text = trajectory_name\n",
    "\n",
    "track = etree.SubElement(trajectory_4d_placemark, f\"{{{kml_ext_namespace}}}Track\")\n",
    "\n",
    "altitude_mode = etree.SubElement(track, \"altitudeMode\")\n",
    "altitude_mode.text = \"absolute\"\n"
   ],
   "metadata": {
    "collapsed": false,
    "ExecuteTime": {
     "start_time": "2023-05-22T19:56:43.686505Z",
     "end_time": "2023-05-22T19:56:43.686718Z"
    }
   }
  },
  {
   "cell_type": "code",
   "execution_count": 47,
   "outputs": [],
   "source": [
    "# Add placemarks for start and end\n",
    "start_placemark = etree.SubElement(trajectory_4d_folder, \"Placemark\")\n",
    "start_placemark_name = etree.SubElement(start_placemark, \"name\")\n",
    "start_placemark_name.text = \"Start\"\n",
    "start_placemark_description = etree.SubElement(start_placemark, \"description\")\n",
    "start_placemark_description.text = \"Start of recording\"\n",
    "start_point = etree.SubElement(start_placemark, \"Point\")\n",
    "start_point_coordinates_tag = etree.SubElement(start_point, \"coordinates\")\n",
    "start_point_coordinates_tag.text = \",\".join([str(c) for c in start_point_coordinates])\n",
    "start_point_altitude_mode = etree.SubElement(start_point, \"altitudeMode\")\n",
    "start_point_altitude_mode.text = \"absolute\"\n",
    "\n",
    "end_placemark = etree.SubElement(trajectory_4d_folder, \"Placemark\")\n",
    "end_placemark_name = etree.SubElement(end_placemark, \"name\")\n",
    "end_placemark_name.text = \"End\"\n",
    "end_placemark_description = etree.SubElement(end_placemark, \"description\")\n",
    "end_placemark_description.text = \"End of recording\"\n",
    "end_point = etree.SubElement(end_placemark, \"Point\")\n",
    "end_point_coordinates_tag = etree.SubElement(end_point, \"coordinates\")\n",
    "end_point_coordinates_tag.text = \",\".join([str(c) for c in end_point_coordinates])\n",
    "end_point_altitude_mode = etree.SubElement(end_point, \"altitudeMode\")\n",
    "end_point_altitude_mode.text = \"absolute\""
   ],
   "metadata": {
    "collapsed": false,
    "ExecuteTime": {
     "start_time": "2023-05-22T19:56:43.846529Z",
     "end_time": "2023-05-22T19:56:43.846805Z"
    }
   }
  },
  {
   "cell_type": "code",
   "execution_count": 48,
   "outputs": [],
   "source": [
    "# Get the 4d coordinates\n",
    "coordinates_4d = list(trajectory[[\"longitude\", \"latitude\", \"altitude\", \"datetime_str\"]].itertuples(index=False, name=None))\n",
    "\n",
    "for longitude, latitude, altitude, t in coordinates_4d:\n",
    "    when_tag = etree.SubElement(track, \"when\")\n",
    "    when_tag.text = t\n",
    "    coordinate_tag = etree.SubElement(track, f\"{{{kml_ext_namespace}}}coord\")\n",
    "    coordinate_tag.text = f\"{longitude} {latitude} {altitude}\""
   ],
   "metadata": {
    "collapsed": false,
    "ExecuteTime": {
     "start_time": "2023-05-22T19:56:43.944885Z",
     "end_time": "2023-05-22T19:56:43.986711Z"
    }
   }
  },
  {
   "cell_type": "code",
   "execution_count": 49,
   "outputs": [],
   "source": [
    "# Make 3D trajectory\n",
    "trajectory_3d_folder = etree.SubElement(root_document, \"Folder\")\n",
    "trajectory_3d_folder_name = etree.SubElement(trajectory_3d_folder, \"name\")\n",
    "trajectory_3d_folder_name.text = \"3D Trajectory\"\n",
    "\n",
    "trajectory_3d_placemark = etree.SubElement(trajectory_3d_folder, \"Placemark\")\n",
    "trajectory_3d_placemark_name = etree.SubElement(trajectory_3d_placemark, \"name\")\n",
    "trajectory_3d_folder_name.text = \"3D Trajectory\"\n",
    "\n",
    "line_string = etree.SubElement(trajectory_3d_placemark, \"LineString\")\n",
    "extrude = etree.SubElement(line_string, \"extrude\")\n",
    "extrude.text = str(1)\n",
    "\n",
    "altitude_mode = etree.SubElement(line_string, \"altitudeMode\")\n",
    "altitude_mode.text = \"absolute\"\n",
    "\n",
    "coordinates_tag = etree.SubElement(line_string, \"coordinates\")\n",
    "coordinates_elems = [f\"{latitude},{longitude},{altitude}\" for latitude, longitude, altitude, _ in coordinates_4d]\n",
    "coordinates_tag.text = \" \".join(coordinates_elems)\n"
   ],
   "metadata": {
    "collapsed": false,
    "ExecuteTime": {
     "start_time": "2023-05-22T19:56:44.130528Z",
     "end_time": "2023-05-22T19:56:44.130708Z"
    }
   }
  },
  {
   "cell_type": "code",
   "execution_count": 50,
   "outputs": [
    {
     "data": {
      "text/plain": "{'gx': 'http://www.google.com/kml/ext/2.2',\n None: 'http://www.opengis.net/kml/2.2'}"
     },
     "execution_count": 50,
     "metadata": {},
     "output_type": "execute_result"
    }
   ],
   "source": [
    "# Save xml to disk\n",
    "\n",
    "output_dir = os.path.dirname(input_filename)\n",
    "output_file = os.path.join(output_dir, f\"{trajectory_name}.kml\")\n",
    "\n",
    "tree = etree.ElementTree(root)\n",
    "tree.write(output_file, xml_declaration=True, encoding=\"utf-8\", pretty_print=True)\n",
    "\n",
    "root.nsmap"
   ],
   "metadata": {
    "collapsed": false,
    "ExecuteTime": {
     "start_time": "2023-05-22T19:56:44.278618Z",
     "end_time": "2023-05-22T19:56:44.278982Z"
    }
   }
  },
  {
   "cell_type": "code",
   "execution_count": 50,
   "outputs": [],
   "source": [],
   "metadata": {
    "collapsed": false,
    "ExecuteTime": {
     "start_time": "2023-05-22T19:56:44.510500Z",
     "end_time": "2023-05-22T19:56:44.510666Z"
    }
   }
  },
  {
   "cell_type": "code",
   "execution_count": null,
   "outputs": [],
   "source": [],
   "metadata": {
    "collapsed": false
   }
  }
 ],
 "metadata": {
  "kernelspec": {
   "display_name": "Python 3",
   "language": "python",
   "name": "python3"
  },
  "language_info": {
   "codemirror_mode": {
    "name": "ipython",
    "version": 2
   },
   "file_extension": ".py",
   "mimetype": "text/x-python",
   "name": "python",
   "nbconvert_exporter": "python",
   "pygments_lexer": "ipython2",
   "version": "2.7.6"
  }
 },
 "nbformat": 4,
 "nbformat_minor": 0
}
